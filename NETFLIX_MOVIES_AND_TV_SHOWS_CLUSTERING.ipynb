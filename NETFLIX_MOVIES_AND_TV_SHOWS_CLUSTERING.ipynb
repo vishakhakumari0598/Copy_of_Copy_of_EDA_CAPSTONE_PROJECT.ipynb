{
  "cells": [
    {
      "cell_type": "markdown",
      "metadata": {
        "id": "view-in-github",
        "colab_type": "text"
      },
      "source": [
        "<a href=\"https://colab.research.google.com/github/vishakhakumari0598/Copy_of_Copy_of_EDA_CAPSTONE_PROJECT.ipynb/blob/main/NETFLIX_MOVIES_AND_TV_SHOWS_CLUSTERING.ipynb\" target=\"_parent\"><img src=\"https://colab.research.google.com/assets/colab-badge.svg\" alt=\"Open In Colab\"/></a>"
      ]
    },
    {
      "cell_type": "markdown",
      "metadata": {
        "id": "I3NUwpviJNC4"
      },
      "source": [
        "# **NETFLIX MOVIES AND TV SHOWS CLUSTERING** - Unsupervised ML Capstone Project"
      ]
    },
    {
      "cell_type": "markdown",
      "metadata": {
        "id": "0djbJydGJIl_"
      },
      "source": [
        "![image.png](data:image/png;base64,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)"
      ]
    },
    {
      "cell_type": "markdown",
      "metadata": {
        "id": "LGcl5Bv9ed6u"
      },
      "source": [
        "# **Problem Statement**"
      ]
    },
    {
      "cell_type": "markdown",
      "metadata": {
        "id": "8M5kyFaVjzXk"
      },
      "source": [
        "This dataset consists of tv shows and movies available on Netflix as of 2019. The dataset is collected from Flixable which is a third-party Netflix search engine.\n",
        "\n",
        "In 2018, they released an interesting report which shows that the number of TV shows on Netflix has nearly tripled since 2010. The streaming service’s number of movies has decreased by more than 2,000 titles since 2010, while its number of TV shows has nearly tripled. It will be interesting to explore what all other insights can be obtained from the same dataset.\n",
        "\n",
        "Integrating this dataset with other external datasets such as IMDB ratings, rotten tomatoes can also provide many interesting findings."
      ]
    },
    {
      "cell_type": "markdown",
      "metadata": {
        "id": "tLx5cJO8hzb1"
      },
      "source": [
        "## <b>In this  project, you are required to do </b>\n",
        "1. Exploratory Data Analysis \n",
        "\n",
        "2. Understanding what type content is available in different countries\n",
        "\n",
        "3. Is Netflix has increasingly focusing on TV rather than movies in recent years.\n",
        "4. Clustering similar content by matching text-based features\n",
        "\n"
      ]
    },
    {
      "cell_type": "markdown",
      "metadata": {
        "id": "AzGDqdC4fZ-b"
      },
      "source": [
        "# **Attribute Information**"
      ]
    },
    {
      "cell_type": "markdown",
      "metadata": {
        "id": "jhfLYargscGV"
      },
      "source": [
        "1. show_id : Unique ID for every Movie / Tv Show\n",
        "\n",
        "2. type : Identifier - A Movie or TV Show\n",
        "\n",
        "3. title : Title of the Movie / Tv Show\n",
        "\n",
        "4. director : Director of the Movie\n",
        "\n",
        "5. cast : Actors involved in the movie / show\n",
        "\n",
        "6. country : Country where the movie / show was produced\n",
        "\n",
        "7. date_added : Date it was added on Netflix\n",
        "\n",
        "8. release_year : Actual Releaseyear of the movie / show\n",
        "\n",
        "9. rating : TV Rating of the movie / show\n",
        "\n",
        "10. duration : Total Duration - in minutes or number of seasons\n",
        "\n",
        "11. listed_in : Genere\n",
        "\n",
        "12. description: The Summary description"
      ]
    },
    {
      "cell_type": "markdown",
      "metadata": {
        "id": "0vFBnsShy_C2"
      },
      "source": [
        "# **1. Exploratory Data Analysis**"
      ]
    },
    {
      "cell_type": "markdown",
      "metadata": {
        "id": "msGDzWWCQPqk"
      },
      "source": [
        "## **Understanding Dataset**"
      ]
    },
    {
      "cell_type": "markdown",
      "metadata": {
        "id": "weVSbr5uQWbO"
      },
      "source": [
        "**Importing Libraries**"
      ]
    },
    {
      "cell_type": "code",
      "execution_count": null,
      "metadata": {
        "id": "2GVrTpCcNLeD"
      },
      "outputs": [],
      "source": [
        "# here we will import the libraries used for machine learning\n",
        "import numpy as np # linear algebra\n",
        "import pandas as pd # data processing, CSV file I/O (e.g. pd.read_csv)\n",
        "from scipy.stats import randint\n",
        "import pandas as pd # data processing, CSV file I/O, data manipulation \n",
        "import matplotlib.pyplot as plt # this is used for the plot the graph \n",
        "import seaborn as sns # used for plot interactive graph. \n",
        "from pandas import set_option\n",
        "plt.style.use('ggplot') # nice plots\n",
        "from matplotlib.pyplot import figure"
      ]
    },
    {
      "cell_type": "markdown",
      "metadata": {
        "id": "ZjO4-iczHQOL"
      },
      "source": [
        "**sklearn**"
      ]
    },
    {
      "cell_type": "code",
      "execution_count": null,
      "metadata": {
        "id": "_JeoB5gTJiU5"
      },
      "outputs": [],
      "source": [
        "from sklearn import preprocessing\n",
        "from sklearn.feature_extraction.text import CountVectorizer, TfidfVectorizer\n",
        "from sklearn.model_selection import train_test_split, KFold\n",
        "from nltk.corpus import stopwords\n",
        "from nltk.stem.snowball import SnowballStemmer\n",
        "\n",
        "from sklearn.metrics import silhouette_score\n",
        "from sklearn.cluster import KMeans\n",
        "from sklearn.metrics import silhouette_samples\n",
        "import scipy.cluster.hierarchy as sch\n",
        "\n",
        "\n",
        "import warnings\n",
        "warnings.filterwarnings('ignore')\n"
      ]
    },
    {
      "cell_type": "code",
      "execution_count": null,
      "metadata": {
        "id": "KA-pgl0Vrkh_"
      },
      "outputs": [],
      "source": [
        "import plotly.express as px\n",
        "import plotly.graph_objects as go\n",
        "from plotly.subplots import make_subplots\n",
        "import plotly.figure_factory as ff"
      ]
    },
    {
      "cell_type": "markdown",
      "metadata": {
        "id": "2XtYdoKoHaN5"
      },
      "source": [
        "**Mounting google drive**"
      ]
    },
    {
      "cell_type": "code",
      "execution_count": null,
      "metadata": {
        "id": "7IhVr4OCNMAM"
      },
      "outputs": [],
      "source": [
        "# Mounting google drive\n",
        "from google.colab import drive\n",
        "drive.mount('/content/drive')"
      ]
    },
    {
      "cell_type": "markdown",
      "metadata": {
        "id": "NEryLx7cQjLr"
      },
      "source": [
        "**Loading our dataset**"
      ]
    },
    {
      "cell_type": "code",
      "execution_count": null,
      "metadata": {
        "id": "xNlSWZ_WNQHx"
      },
      "outputs": [],
      "source": [
        "# Loading our dataset from gogle drive and creating a pandas dataframe\n",
        "df = pd.read_csv(\"/content/drive/MyDrive/NETFLIX MOVIES AND TV SHOWS CLUSTERING.csv\")"
      ]
    },
    {
      "cell_type": "code",
      "execution_count": null,
      "metadata": {
        "id": "NWQjv6qLNnqL"
      },
      "outputs": [],
      "source": [
        "# Exploring first 5 rows for better understanding of data\n",
        "df.head()"
      ]
    },
    {
      "cell_type": "code",
      "execution_count": null,
      "metadata": {
        "id": "mvsAoHZdNrtA"
      },
      "outputs": [],
      "source": [
        "# Curiously exploring last 5 rows of dataset using tail()\n",
        "df.tail()"
      ]
    },
    {
      "cell_type": "markdown",
      "metadata": {
        "id": "0QtKfh0lGkuT"
      },
      "source": [
        "Exploring features name"
      ]
    },
    {
      "cell_type": "code",
      "execution_count": null,
      "metadata": {
        "id": "Wyhqz9q6NuxE"
      },
      "outputs": [],
      "source": [
        "# Getting feature names\n",
        "df.columns"
      ]
    },
    {
      "cell_type": "code",
      "execution_count": null,
      "metadata": {
        "id": "-sopV1LtNxYs"
      },
      "outputs": [],
      "source": [
        "# Looking for total no. of observations and features\n",
        "df.shape"
      ]
    },
    {
      "cell_type": "markdown",
      "metadata": {
        "id": "9i_fo5m_RODU"
      },
      "source": [
        "We have around 7787 rows of records and 12 features."
      ]
    },
    {
      "cell_type": "code",
      "execution_count": null,
      "metadata": {
        "id": "guhdjuHcN90a"
      },
      "outputs": [],
      "source": [
        "# Checking info our dataset\n",
        "df.info()"
      ]
    },
    {
      "cell_type": "markdown",
      "metadata": {
        "id": "sHkSbkYwRZ8q"
      },
      "source": [
        "Here we can see that most of data in object format.\n",
        "\n",
        "And there are some features are missing some of the records."
      ]
    },
    {
      "cell_type": "markdown",
      "metadata": {
        "id": "_0x8Fx-L19h7"
      },
      "source": [
        "## **Data Cleaning**"
      ]
    },
    {
      "cell_type": "markdown",
      "metadata": {
        "id": "-rN_Rms8RlPT"
      },
      "source": [
        "**Missing values**"
      ]
    },
    {
      "cell_type": "code",
      "execution_count": null,
      "metadata": {
        "id": "X7JIx1Y-OBSy"
      },
      "outputs": [],
      "source": [
        "# looking out exact missing values in our dataset in every features using isnull()\n",
        "df.isnull().sum().sort_values(ascending=False)[:6]"
      ]
    },
    {
      "cell_type": "markdown",
      "metadata": {
        "id": "G9UT_k8jRx7h"
      },
      "source": [
        "We have 5 following features having missing values\n",
        "1. director\n",
        "2. cast\n",
        "3. country\n",
        "4. date_added\n",
        "5. rating"
      ]
    },
    {
      "cell_type": "markdown",
      "metadata": {
        "id": "ae4LKv1PSADI"
      },
      "source": [
        "**Duplicated Values**"
      ]
    },
    {
      "cell_type": "code",
      "execution_count": null,
      "metadata": {
        "id": "to_2_BtCP7q8"
      },
      "outputs": [],
      "source": [
        "# we will use duplicated for checking duplicate values \n",
        "df.duplicated().sum()"
      ]
    },
    {
      "cell_type": "markdown",
      "metadata": {
        "id": "81h1I0soUcIm"
      },
      "source": [
        "**Making a copy of our dataframe for further operations**"
      ]
    },
    {
      "cell_type": "code",
      "execution_count": null,
      "metadata": {
        "id": "5mC4hXePmlpH"
      },
      "outputs": [],
      "source": [
        "#creating copy of dataset before working with it so that we can have original data untouched\n",
        "df_1 = df.copy()"
      ]
    },
    {
      "cell_type": "markdown",
      "metadata": {
        "id": "Z1nxSafag7xB"
      },
      "source": [
        "**Filling null values with \"unknown\"**"
      ]
    },
    {
      "cell_type": "code",
      "execution_count": null,
      "metadata": {
        "id": "f4ZrQTj0mRRW"
      },
      "outputs": [],
      "source": [
        "# Filling all the missing values with unknown\n",
        "df_1.fillna(\"Unknown\",inplace=True)"
      ]
    },
    {
      "cell_type": "code",
      "execution_count": null,
      "metadata": {
        "id": "jH3eXGvymTiT"
      },
      "outputs": [],
      "source": [
        "# checking again after filling null values\n",
        "df_1.isnull().sum()"
      ]
    },
    {
      "cell_type": "markdown",
      "metadata": {
        "id": "imB8SdMVpCxj"
      },
      "source": [
        "we have filled missing values with **unknown.**"
      ]
    },
    {
      "cell_type": "markdown",
      "metadata": {
        "id": "3maJynqBS3US"
      },
      "source": [
        "### **Descriptive Staistics**"
      ]
    },
    {
      "cell_type": "code",
      "execution_count": null,
      "metadata": {
        "colab": {
          "base_uri": "https://localhost:8080/",
          "height": 183
        },
        "id": "ov7N3LrQQZB5",
        "outputId": "fe7dad27-c8e9-412c-842c-52d88cd1d413"
      },
      "outputs": [
        {
          "output_type": "error",
          "ename": "NameError",
          "evalue": "ignored",
          "traceback": [
            "\u001b[0;31m---------------------------------------------------------------------------\u001b[0m",
            "\u001b[0;31mNameError\u001b[0m                                 Traceback (most recent call last)",
            "\u001b[0;32m<ipython-input-4-01672d4c296d>\u001b[0m in \u001b[0;36m<module>\u001b[0;34m\u001b[0m\n\u001b[1;32m      1\u001b[0m \u001b[0;31m# we will check numerical columns\u001b[0m\u001b[0;34m\u001b[0m\u001b[0;34m\u001b[0m\u001b[0;34m\u001b[0m\u001b[0m\n\u001b[0;32m----> 2\u001b[0;31m \u001b[0mdf_1\u001b[0m\u001b[0;34m.\u001b[0m\u001b[0mdescribe\u001b[0m\u001b[0;34m(\u001b[0m\u001b[0;34m)\u001b[0m\u001b[0;34m\u001b[0m\u001b[0;34m\u001b[0m\u001b[0m\n\u001b[0m",
            "\u001b[0;31mNameError\u001b[0m: name 'df_1' is not defined"
          ]
        }
      ],
      "source": [
        "# we will check numerical columns\n",
        "df_1.describe()"
      ]
    },
    {
      "cell_type": "markdown",
      "metadata": {
        "id": "8kmS3xKDG6Vb"
      },
      "source": [
        "We can say very old content on netflix was released in 1925, most of the content released in 2017."
      ]
    },
    {
      "cell_type": "code",
      "execution_count": null,
      "metadata": {
        "id": "l1Vm-11Nmggh"
      },
      "outputs": [],
      "source": [
        "# Checking data types again\n",
        "df_1.dtypes"
      ]
    },
    {
      "cell_type": "markdown",
      "metadata": {
        "id": "oFRDegLSXN31"
      },
      "source": [
        "## **Data Visualization**"
      ]
    },
    {
      "cell_type": "markdown",
      "metadata": {
        "id": "eYy4KHUp30H9"
      },
      "source": [
        "### **Some Feature Engineering required For Data Visualization**"
      ]
    },
    {
      "cell_type": "markdown",
      "metadata": {
        "id": "hVjJ3w-rsdkZ"
      },
      "source": [
        "converting date_added column datatype to datetime"
      ]
    },
    {
      "cell_type": "code",
      "execution_count": null,
      "metadata": {
        "id": "AzswapUKtaTF"
      },
      "outputs": [],
      "source": [
        "# Getting records from date_added column excluding 'unknown'\n",
        "df_1 = df_1.loc[df_1['date_added']!= 'Unknown']"
      ]
    },
    {
      "cell_type": "markdown",
      "metadata": {
        "id": "ieRgTTgHZbdF"
      },
      "source": [
        "checking shape again "
      ]
    },
    {
      "cell_type": "code",
      "execution_count": null,
      "metadata": {
        "id": "vahMz0hptvVU"
      },
      "outputs": [],
      "source": [
        "df_1.shape"
      ]
    },
    {
      "cell_type": "code",
      "execution_count": null,
      "metadata": {
        "id": "GNrx-5AhrvS2"
      },
      "outputs": [],
      "source": [
        "# converting date_added column to datetime\n",
        "df_1['date_added'] = pd.to_datetime(df_1['date_added'])"
      ]
    },
    {
      "cell_type": "code",
      "execution_count": null,
      "metadata": {
        "id": "IPxSBvmBsvmn"
      },
      "outputs": [],
      "source": [
        "# Crosschecking\n",
        "df_1.info()"
      ]
    },
    {
      "cell_type": "markdown",
      "metadata": {
        "id": "yFCX3hYSaZbk"
      },
      "source": [
        "our date_added column successfully converted into datetime type"
      ]
    },
    {
      "cell_type": "markdown",
      "metadata": {
        "id": "rbtwHu0XahqX"
      },
      "source": [
        "Now we will extract Year, month and date from date_added column and create seperate columns for each for ease of operations."
      ]
    },
    {
      "cell_type": "code",
      "execution_count": null,
      "metadata": {
        "id": "xHwDxWMVt_RM"
      },
      "outputs": [],
      "source": [
        "# Creating 'year' column\n",
        "df_1['added_year'] = df_1['date_added'].dt.year\n"
      ]
    },
    {
      "cell_type": "code",
      "execution_count": null,
      "metadata": {
        "id": "bj_MggqfuYzQ"
      },
      "outputs": [],
      "source": [
        "# month\n",
        "df_1['added_month'] = df_1['date_added'].dt.month\n"
      ]
    },
    {
      "cell_type": "code",
      "execution_count": null,
      "metadata": {
        "id": "qyiKjJlW9cR9"
      },
      "outputs": [],
      "source": [
        "# day\n",
        "df_1['added_day'] = df_1['date_added'].dt.day\n"
      ]
    },
    {
      "cell_type": "markdown",
      "metadata": {
        "id": "WkRTqgi5ykY5"
      },
      "source": [
        "renaming **'listed_in'** column to **'genres'.**"
      ]
    },
    {
      "cell_type": "code",
      "execution_count": null,
      "metadata": {
        "id": "n8pEaPGCHfPF"
      },
      "outputs": [],
      "source": [
        "# first we rename the column for sake of simplicity\n",
        "df_1.rename(columns={'listed_in':'genres'},inplace=True)"
      ]
    },
    {
      "cell_type": "markdown",
      "metadata": {
        "id": "OYo0ee7bvUYP"
      },
      "source": [
        "we will drop column 'date_added' as we create seperate columns for it according to year and month"
      ]
    },
    {
      "cell_type": "code",
      "execution_count": null,
      "metadata": {
        "id": "u9ok320nu7ne"
      },
      "outputs": [],
      "source": [
        "# Dropping 'date_added' as we create seperate columns\n",
        "df_1.drop(columns=\"date_added\",axis=1,inplace=True)"
      ]
    },
    {
      "cell_type": "markdown",
      "metadata": {
        "id": "VrCnCxv-bSCZ"
      },
      "source": [
        "Lets check all is going well or not...?"
      ]
    },
    {
      "cell_type": "code",
      "execution_count": null,
      "metadata": {
        "id": "w1vNm6kvvSUn"
      },
      "outputs": [],
      "source": [
        "# Checking first 5 rows of our dataset \n",
        "df_1.head()"
      ]
    },
    {
      "cell_type": "markdown",
      "metadata": {
        "id": "_FNh1DnSbXtS"
      },
      "source": [
        "Okay till here everything is going good.....!"
      ]
    },
    {
      "cell_type": "markdown",
      "metadata": {
        "id": "lIcHzaz3yGB0"
      },
      "source": [
        "## **Univariate Analysis**"
      ]
    },
    {
      "cell_type": "markdown",
      "metadata": {
        "id": "UUyJYL6mXURn"
      },
      "source": [
        "Type of show means movies/TV shows"
      ]
    },
    {
      "cell_type": "code",
      "execution_count": null,
      "metadata": {
        "id": "hyw5uyk9mvWX"
      },
      "outputs": [],
      "source": [
        "# checking how many tv shows and movies are there  \n",
        "df_1['type'].value_counts()"
      ]
    },
    {
      "cell_type": "code",
      "execution_count": null,
      "metadata": {
        "id": "e2UGbLSQ-0Dg"
      },
      "outputs": [],
      "source": [
        "# Pie chart for type of shows\n",
        "plt.figure(figsize=(5,5))\n",
        "df_1['type'].value_counts().plot(kind='pie',autopct ='%0.1f%%')\n",
        "plt.title('Percentage of most preferred Show ');"
      ]
    },
    {
      "cell_type": "markdown",
      "metadata": {
        "id": "y49VO2kn4AV_"
      },
      "source": [
        "**In our dataset we have around 69% content as movies and remaining 31% as TV shows.**"
      ]
    },
    {
      "cell_type": "markdown",
      "metadata": {
        "id": "6qRpRsEqYhj5"
      },
      "source": [
        "**Here we have more numberes of Movies than TV shows**"
      ]
    },
    {
      "cell_type": "markdown",
      "metadata": {
        "id": "4RZ2xp_jIA8k"
      },
      "source": [
        "## **Genres**"
      ]
    },
    {
      "cell_type": "code",
      "execution_count": null,
      "metadata": {
        "id": "fLniGNjiIcj1"
      },
      "outputs": [],
      "source": [
        "# Copying main dataframe for exploring genres\n",
        "genres_explore = df_1.copy()"
      ]
    },
    {
      "cell_type": "code",
      "execution_count": null,
      "metadata": {
        "id": "aCXk10tMIj_d"
      },
      "outputs": [],
      "source": [
        "# we will split genres column\n",
        "genres_explore = pd.concat([genres_explore, df_1[\"genres\"].str.split(\",\", expand = True)], axis = 1)"
      ]
    },
    {
      "cell_type": "code",
      "execution_count": null,
      "metadata": {
        "id": "mt7CfXN_I-IC"
      },
      "outputs": [],
      "source": [
        "# Melting the required features\n",
        "genres_explore = genres_explore.melt(id_vars = ['type','title'], value_vars=range(3),value_name=\"genres\")\n",
        "genres_explore = genres_explore[genres_explore['genres'].notna()]\n",
        "genres_explore"
      ]
    },
    {
      "cell_type": "code",
      "execution_count": null,
      "metadata": {
        "id": "UabKXd0tNCg2"
      },
      "outputs": [],
      "source": [
        "# counting top 30 genres by occurence\n",
        "genres_explore['genres'].value_counts()[:30]"
      ]
    },
    {
      "cell_type": "code",
      "execution_count": null,
      "metadata": {
        "id": "DaljJKiSToIs"
      },
      "outputs": [],
      "source": [
        "# Stripping the equired records\n",
        "genres_explore['genres']=genres_explore['genres'].str.strip()\n",
        "genres_explore['genres'].value_counts()[:20]"
      ]
    },
    {
      "cell_type": "markdown",
      "metadata": {
        "id": "I5gc8tGHcXmc"
      },
      "source": [
        "### **Top 20 Genres**"
      ]
    },
    {
      "cell_type": "code",
      "execution_count": null,
      "metadata": {
        "id": "QCxhQ6l6Sl0c"
      },
      "outputs": [],
      "source": [
        "# Plotting a barplot for getting top 20 genres\n",
        "plt.figure(figsize = (20, 8))\n",
        "listed_in = genres_explore[\"genres\"].value_counts()[:20]\n",
        "sns.barplot(y = listed_in, x = listed_in.index, palette='rocket')\n",
        "plt.xticks(rotation=90)\n"
      ]
    },
    {
      "cell_type": "markdown",
      "metadata": {
        "id": "Jbip7LxP6VDw"
      },
      "source": [
        "Here **'International Movies'** are the top most occured genres with around **2400** times occured, followed by **'Dramas'** and **'Comedies'** with approximately **2100** and **1500** respectively."
      ]
    },
    {
      "cell_type": "code",
      "execution_count": null,
      "metadata": {
        "id": "0gpaW-OMTSKR"
      },
      "outputs": [],
      "source": [
        "# creating another dataframe for plotting genres treemap\n",
        "df_genre = pd.DataFrame(genres_explore.genres.value_counts()).reset_index().rename(columns={'index':'genre', 'genres':'count'})"
      ]
    },
    {
      "cell_type": "code",
      "execution_count": null,
      "metadata": {
        "id": "VZHWIwOlVsgW"
      },
      "outputs": [],
      "source": [
        "# Plotting a Treemap using plotly\n",
        "fig_tree = px.treemap(df_genre, path=[px.Constant(\"Distribution of Geners\"), 'count','genre'])\n",
        "fig_tree.update_layout(title='Highest watched Geners on Netflix',                \n",
        "         hoverlabel=dict(bgcolor=\"#444\", font_size=13, font_family=\"Lato, sans-serif\"))          "
      ]
    },
    {
      "cell_type": "markdown",
      "metadata": {
        "id": "jUBUkpzxYkEG"
      },
      "source": [
        "In above treemap we can spot that **'International Movies', 'Dramas', 'Comedies', 'International TV shows', 'Documentries', 'Action & Adventures', 'TV Dramas', 'Independent Movies', 'Children and Family Movies'** are top genres."
      ]
    },
    {
      "cell_type": "markdown",
      "metadata": {
        "id": "hU8F2IJLZXmk"
      },
      "source": [
        "**'classic and cult tv', 'TV thrillers', Anime Features', 'Faith & Spirituality'** are very lesser in numbers."
      ]
    },
    {
      "cell_type": "markdown",
      "metadata": {
        "id": "4AG-Megy7mBK"
      },
      "source": [
        "**Getting column names for further operations**"
      ]
    },
    {
      "cell_type": "code",
      "execution_count": null,
      "metadata": {
        "id": "LTGIz38npMhy"
      },
      "outputs": [],
      "source": [
        "df_1.columns"
      ]
    },
    {
      "cell_type": "markdown",
      "metadata": {
        "id": "NXzhcl9XXzB7"
      },
      "source": [
        "## **Content Addition**"
      ]
    },
    {
      "cell_type": "markdown",
      "metadata": {
        "id": "qvau02ZRX_7l"
      },
      "source": [
        "**Monthwise content addition**"
      ]
    },
    {
      "cell_type": "code",
      "execution_count": null,
      "metadata": {
        "id": "B5Id7jnRQDWy"
      },
      "outputs": [],
      "source": [
        "# counting no. of contents added every month\n",
        "df_1.added_month.value_counts()"
      ]
    },
    {
      "cell_type": "code",
      "execution_count": null,
      "metadata": {
        "id": "8199PL5LmH7H"
      },
      "outputs": [],
      "source": [
        "# Plotting a countplot for getting better insights from monthwise addition\n",
        "plt.figure(figsize=(10,8))\n",
        "sns.countplot(x='added_month',hue='type',data=df_1,palette = 'mako')\n",
        "plt.title(\"Monthwise content addition\")"
      ]
    },
    {
      "cell_type": "markdown",
      "metadata": {
        "id": "6kaazfPMmnhG"
      },
      "source": [
        "we can clearly see that on **\"January\"**, **\"October\"** and in **\"December\"** there is more content added on netflix.\n",
        "\n",
        "And in **\"February\"** very less amount of content added."
      ]
    },
    {
      "cell_type": "markdown",
      "metadata": {
        "id": "r2EI_mwNughx"
      },
      "source": [
        "**Plotting Bar chart for checking how many movies/shows added on an avergae on days of evrey month**"
      ]
    },
    {
      "cell_type": "code",
      "execution_count": null,
      "metadata": {
        "id": "r27B6IZBqjK-"
      },
      "outputs": [],
      "source": [
        "plt.figure(figsize=(18,8))\n",
        "sns.countplot(x='added_day',hue='type',data=df_1,palette = \"Dark2\")\n",
        "plt.xlabel('Days')\n",
        "plt.ylabel('Total no. of Movies/TV shows added')\n",
        "plt.title(\"Daywise content addition\")"
      ]
    },
    {
      "cell_type": "markdown",
      "metadata": {
        "id": "foTgxGZavLrZ"
      },
      "source": [
        "we can clearly spot the insights that netflix majorly add the content on the **1st day of every month**.\n",
        "\n",
        "And there is another day which is **15th**, mid of the month which has second highest number of contents added on it."
      ]
    },
    {
      "cell_type": "markdown",
      "metadata": {
        "id": "wti9SB3wXlOn"
      },
      "source": [
        "## **Ratings**"
      ]
    },
    {
      "cell_type": "markdown",
      "metadata": {
        "id": "UJMNbSax0XQ_"
      },
      "source": [
        "### **Netflix Rating of Movies/TV Shows based on content:-**\n",
        "\n",
        "**TV-MA** :for Mature Audiences\n",
        "\n",
        "**R** : Restricted\n",
        "\n",
        "**PG-13** : Parents strongly cautioned. May be Inappropriate for ages 12 and under\n",
        "\n",
        "**TV-14** : Parents strongly cautioned. May not be suitable for ages 14 and under\n",
        "\n",
        "**TV-PG** : Parental Guidance suggested\n",
        "\n",
        "**NR** : Not Rated\n",
        "\n",
        "**TV-G** : Suitable for General Audiences\n",
        "\n",
        "**TV-Y** : Designed to be appropriate for all children\n",
        "\n",
        "**PG** : Parental Guidance suggested\n",
        "\n",
        "**G** : Suitable for General Audiences\n",
        "\n",
        "**NC-17** : the content isn't suitable for children under 17 and younger\n",
        "\n",
        "**TV-Y7-FV** : Suitable for ages 7 and up\n",
        "\n",
        "**UR** : Unrated\n",
        "\n",
        "\n",
        "\n",
        "\n"
      ]
    },
    {
      "cell_type": "code",
      "execution_count": null,
      "metadata": {
        "id": "QUXtH--QwxzS"
      },
      "outputs": [],
      "source": [
        "# counting all type ratings\n",
        "df_1.rating.value_counts().reset_index().rename(columns={'index':'Rating','rating':'Count'})"
      ]
    },
    {
      "cell_type": "markdown",
      "metadata": {
        "id": "tw1WTtqQdiWB"
      },
      "source": [
        "### **Rating Countplot**"
      ]
    },
    {
      "cell_type": "code",
      "execution_count": null,
      "metadata": {
        "id": "NX6X1e4WxQIo"
      },
      "outputs": [],
      "source": [
        "# Plotting a countplot to get in depth analysis from ratings\n",
        "plt.figure(figsize=(15,8))\n",
        "sns.countplot(x='rating',hue='type',data=df_1,palette = \"Dark2\")\n",
        "plt.xlabel('Rating')\n",
        "plt.ylabel('Total no. of Movies/TV shows')\n",
        "plt.title(\"Movies/TV shows - Rating wise\")"
      ]
    },
    {
      "cell_type": "markdown",
      "metadata": {
        "id": "uY0P7RdRWOR6"
      },
      "source": [
        "Here we can see that most content for **mature adults (TV-MA)** is more in both TV shows and Movies.\n",
        "\n",
        "Then for **Under 14** which is **TV-14** is second highest in number, in which **parents are strongly cautioned.**\n"
      ]
    },
    {
      "cell_type": "markdown",
      "metadata": {
        "id": "TjC9Cbl8W_Mh"
      },
      "source": [
        "**G** rating which means **suitable for general audience** is rated to **very very less number of content**, which means there is **very less content which can suitable for everyone**."
      ]
    },
    {
      "cell_type": "markdown",
      "metadata": {
        "id": "bEDIQJ33JjDJ"
      },
      "source": [
        "## **Text Visualization**"
      ]
    },
    {
      "cell_type": "markdown",
      "metadata": {
        "id": "0usR-8GjZ-HV"
      },
      "source": [
        "We will work on Description column\n",
        "\n"
      ]
    },
    {
      "cell_type": "code",
      "execution_count": null,
      "metadata": {
        "id": "ykXBvurnbjSj"
      },
      "outputs": [],
      "source": [
        "import nltk\n",
        "nltk.download('stopwords')"
      ]
    },
    {
      "cell_type": "code",
      "execution_count": null,
      "metadata": {
        "id": "82kBLByae_j8"
      },
      "outputs": [],
      "source": [
        "stop_words = nltk.corpus.stopwords.words('english')\n",
        "print(stop_words)"
      ]
    },
    {
      "cell_type": "markdown",
      "metadata": {
        "id": "k2DUzgoTkwoe"
      },
      "source": [
        "We will define a function to remove stop words"
      ]
    },
    {
      "cell_type": "code",
      "execution_count": null,
      "metadata": {
        "id": "WVdmSaQhgXZh"
      },
      "outputs": [],
      "source": [
        "def delete_stopwords(description):\n",
        "    '''\n",
        "    This is function which will take the text data as input and delets the stopwords from it.\n",
        "    '''\n",
        "    \n",
        "    # We will use a list comprehension \n",
        "    clean_text = [i.lower() for i in description.split() if i.lower() not in stop_words]\n",
        "    # joining the list of words with space separator\n",
        "    return \" \".join(clean_text)"
      ]
    },
    {
      "cell_type": "markdown",
      "metadata": {
        "id": "G9SYTcFv3nMl"
      },
      "source": [
        "### **Cleaning Text**"
      ]
    },
    {
      "cell_type": "code",
      "execution_count": null,
      "metadata": {
        "id": "Bizxicnildfv"
      },
      "outputs": [],
      "source": [
        "# Now we will apply this function our 'Description' column\n",
        "\n",
        "df_1['description']=df_1['description'].apply(delete_stopwords)\n",
        "df_1['description'][0:2]"
      ]
    },
    {
      "cell_type": "markdown",
      "metadata": {
        "id": "Fz2mf4VEms8U"
      },
      "source": [
        "okay, now we will remove punctuations"
      ]
    },
    {
      "cell_type": "markdown",
      "metadata": {
        "id": "WJ9LhZTE7zZu"
      },
      "source": [
        "importing string"
      ]
    },
    {
      "cell_type": "code",
      "execution_count": null,
      "metadata": {
        "id": "RTv68Qbbn_R3"
      },
      "outputs": [],
      "source": [
        "import string"
      ]
    },
    {
      "cell_type": "code",
      "execution_count": null,
      "metadata": {
        "id": "iae-NH2JmTfZ"
      },
      "outputs": [],
      "source": [
        "# Defining a function to remove the punctuation\n",
        "def remove_punctuations(text):\n",
        "    '''\n",
        "    This function takes input text and removes punctuation marks from it\n",
        "    '''\n",
        "    for punctuation in string.punctuation:\n",
        "        text = text.replace(punctuation, '')\n",
        "    return text"
      ]
    },
    {
      "cell_type": "code",
      "execution_count": null,
      "metadata": {
        "id": "BSjlQB8poagM"
      },
      "outputs": [],
      "source": [
        "# Now we will apply this function on 'Description' column\n",
        "df_1['description']=df_1['description'].apply(remove_punctuations)"
      ]
    },
    {
      "cell_type": "markdown",
      "metadata": {
        "id": "r6n01yFhrm6_"
      },
      "source": [
        "We removed the punctuation marks from decription column, now we will once check by calling some of the top rows"
      ]
    },
    {
      "cell_type": "code",
      "execution_count": null,
      "metadata": {
        "id": "0rzGSk_Ron51"
      },
      "outputs": [],
      "source": [
        "df_1['description'][0:6]"
      ]
    },
    {
      "cell_type": "markdown",
      "metadata": {
        "id": "jdmSUA3PwByJ"
      },
      "source": [
        "Now we will remove punctuations and stop_words from 'genres' column"
      ]
    },
    {
      "cell_type": "code",
      "execution_count": null,
      "metadata": {
        "id": "0C-fFZJUylhM"
      },
      "outputs": [],
      "source": [
        "# we will use count vectorizer\n",
        "count_vectorizer = CountVectorizer()\n",
        "count_vectorizer.fit(df_1['description'])\n",
        "word_count = count_vectorizer.vocabulary_.items()"
      ]
    },
    {
      "cell_type": "code",
      "execution_count": null,
      "metadata": {
        "id": "7XEdgkmSzTQj"
      },
      "outputs": [],
      "source": [
        "# we will make a list of word count\n",
        "list_words = list(word_count)"
      ]
    },
    {
      "cell_type": "markdown",
      "metadata": {
        "id": "7JjCgXPu0uvP"
      },
      "source": [
        "We will now arrange the words with their occurences"
      ]
    },
    {
      "cell_type": "code",
      "execution_count": null,
      "metadata": {
        "id": "kRA_SJG60s33"
      },
      "outputs": [],
      "source": [
        "# We will store the words and their counts in respective lists\n",
        "words = []\n",
        "counts = []\n",
        "for key, value in word_count:\n",
        "  words.append(key)\n",
        "  counts.append(value)\n"
      ]
    },
    {
      "cell_type": "code",
      "execution_count": null,
      "metadata": {
        "id": "H9MaKuZA3_NT"
      },
      "outputs": [],
      "source": [
        "# creating a dataframe for word counts\n",
        "vocabulary = pd.DataFrame({\"words\":words,\"counts\":counts})\n",
        "vocabulary = vocabulary.sort_values(\"counts\",ascending=False)\n",
        "vocabulary"
      ]
    },
    {
      "cell_type": "code",
      "execution_count": null,
      "metadata": {
        "id": "sClfaXQ658bP"
      },
      "outputs": [],
      "source": [
        "# Resetting index and droping index column\n",
        "vocabulary.reset_index(inplace=True)\n",
        "vocabulary.drop(columns={\"index\"},inplace=True)"
      ]
    },
    {
      "cell_type": "markdown",
      "metadata": {
        "id": "MlreLUIJ8hJc"
      },
      "source": [
        "**Top 10 most occured words**"
      ]
    },
    {
      "cell_type": "code",
      "execution_count": null,
      "metadata": {
        "id": "JaLeFeYJ6WjD"
      },
      "outputs": [],
      "source": [
        "vocabulary[0:10]"
      ]
    },
    {
      "cell_type": "markdown",
      "metadata": {
        "id": "BTuQtmfevT_Q"
      },
      "source": [
        "we will plot top 10 most occured words"
      ]
    },
    {
      "cell_type": "code",
      "execution_count": null,
      "metadata": {
        "id": "9v-r6OVyvc8z"
      },
      "outputs": [],
      "source": [
        "top_10 = vocabulary.head(10)\n",
        "top_10_words = top_10.words.values\n",
        "top_10_word_count = top_10.counts.values"
      ]
    },
    {
      "cell_type": "code",
      "execution_count": null,
      "metadata": {
        "id": "K-R2ZHhCwu1p"
      },
      "outputs": [],
      "source": [
        "# array of top 10 words\n",
        "top_10_words"
      ]
    },
    {
      "cell_type": "code",
      "execution_count": null,
      "metadata": {
        "id": "wMCVU782wyJa"
      },
      "outputs": [],
      "source": [
        "# count of top 10 words\n",
        "top_10_word_count"
      ]
    },
    {
      "cell_type": "code",
      "execution_count": null,
      "metadata": {
        "id": "TEsNwwoVxACF"
      },
      "outputs": [],
      "source": [
        "# Horizontal bar plot of top 10 most occured bar plot\n",
        "plt.figure( figsize = ( 16,6 ))\n",
        "plt.xlim(19600,19650,)\n",
        "plt.barh(top_10_words , top_10_word_count )"
      ]
    },
    {
      "cell_type": "markdown",
      "metadata": {
        "id": "eDTPOW8K829h"
      },
      "source": [
        "### **Stemming**"
      ]
    },
    {
      "cell_type": "markdown",
      "metadata": {
        "id": "F2eIRK38yTNb"
      },
      "source": [
        "As we can see that most words are from other langauges than english we will use **Snowball stemmer** -\n",
        "\n",
        "The Snowball Stemmer can map non-English words too. Since it supports other languages the Snowball Stemmers can be called a multi-lingual stemmer."
      ]
    },
    {
      "cell_type": "code",
      "execution_count": null,
      "metadata": {
        "id": "e5Pwjjcrx0H-"
      },
      "outputs": [],
      "source": [
        "# Stemming\n",
        "stemming = SnowballStemmer(\"english\")"
      ]
    },
    {
      "cell_type": "code",
      "execution_count": null,
      "metadata": {
        "id": "kJeU-4hN4IlU"
      },
      "outputs": [],
      "source": [
        "# Defining a function for splitting the strings in description column and applying stemming on words and then joining them\n",
        "def stemming_words(description):    \n",
        "    '''a function which stems each word in the given text'''\n",
        "    description = [stemming.stem(word) for word in description.split()]\n",
        "    return \" \".join(description)"
      ]
    },
    {
      "cell_type": "code",
      "execution_count": null,
      "metadata": {
        "id": "D--IrsoS4hBC"
      },
      "outputs": [],
      "source": [
        "# Applying stemming function which is defined above on description column\n",
        "df_1['description'] = df_1['description'].apply(stemming_words)"
      ]
    },
    {
      "cell_type": "code",
      "execution_count": null,
      "metadata": {
        "id": "eA8UoL8X451I"
      },
      "outputs": [],
      "source": [
        "# Create the object of tfid vectorizer\n",
        "tfid_vectorizer = TfidfVectorizer()\n",
        "\n",
        "# Fit the vectorizer using the text data\n",
        "tfid_vectorizer.fit(df_1['description'])\n",
        "\n",
        "# Collect the vocabulary items used in the vectorizer\n",
        "vocabulary_1 = tfid_vectorizer.vocabulary_.items()"
      ]
    },
    {
      "cell_type": "code",
      "execution_count": null,
      "metadata": {
        "id": "SnAkXRvm5nWn"
      },
      "outputs": [],
      "source": [
        "# Lists to store the vocab and counts\n",
        "words_1 = []\n",
        "count_of_words = []\n",
        "# Iterate through each vocab and count append the value to designated lists\n",
        "for key, value in vocabulary_1:\n",
        "    words_1.append(key)\n",
        "    count_of_words.append(value)"
      ]
    },
    {
      "cell_type": "markdown",
      "metadata": {
        "id": "d-AOco4sdxDL"
      },
      "source": [
        "**Words after stemming**"
      ]
    },
    {
      "cell_type": "code",
      "execution_count": null,
      "metadata": {
        "id": "RJ78s0c65486"
      },
      "outputs": [],
      "source": [
        "# Creating a dataframe of words after stemming\n",
        "words_after_stemming = pd.DataFrame({\"Word\":words_1,\n",
        "                                     \"Count\":count_of_words})\n",
        "words_after_stemming = words_after_stemming.sort_values(\"Count\",ascending=False)"
      ]
    },
    {
      "cell_type": "code",
      "execution_count": null,
      "metadata": {
        "id": "GIeFTU8U6Rkh"
      },
      "outputs": [],
      "source": [
        "# Exploring top 10 most occured words in description column after stemming\n",
        "top10_words_after_stemming = words_after_stemming.head(10)"
      ]
    },
    {
      "cell_type": "code",
      "execution_count": null,
      "metadata": {
        "id": "9y5dxVF_-C-9"
      },
      "outputs": [],
      "source": [
        "top10_most_occured_stemmed_words = top10_words_after_stemming.Word.values\n",
        "top10_count_of_most_occured_stemmed_words = top10_words_after_stemming.Count.values"
      ]
    },
    {
      "cell_type": "code",
      "execution_count": null,
      "metadata": {
        "id": "nD5xsVH8_I9k"
      },
      "outputs": [],
      "source": [
        "top10_count_of_most_occured_stemmed_words"
      ]
    },
    {
      "cell_type": "markdown",
      "metadata": {
        "id": "VQ2opP1JeFZu"
      },
      "source": [
        "**Top 10 most occured words after stemming**"
      ]
    },
    {
      "cell_type": "code",
      "execution_count": null,
      "metadata": {
        "id": "ehrdv4D2-_aY"
      },
      "outputs": [],
      "source": [
        "# plotting a horizontal bar chart\n",
        "plt.figure( figsize = ( 16,6 ))\n",
        "plt.xlim(14250, 14300)\n",
        "plt.barh(top10_most_occured_stemmed_words , top10_count_of_most_occured_stemmed_words )"
      ]
    },
    {
      "cell_type": "markdown",
      "metadata": {
        "id": "_ycZengWeP1v"
      },
      "source": [
        "**In above bar chart we can see that most occured words are non-english.**"
      ]
    },
    {
      "cell_type": "markdown",
      "metadata": {
        "id": "a10JNpMcyTqy"
      },
      "source": [
        "# **Multivariate Analysis**"
      ]
    },
    {
      "cell_type": "markdown",
      "metadata": {
        "id": "OltE-4yDzOaR"
      },
      "source": [
        "# **2. Understanding what type content is available in different countries**"
      ]
    },
    {
      "cell_type": "markdown",
      "metadata": {
        "id": "LA8pPEVCFLj3"
      },
      "source": [
        "### **Exploring Countries**"
      ]
    },
    {
      "cell_type": "code",
      "execution_count": null,
      "metadata": {
        "id": "g0G9e1BZyHMK"
      },
      "outputs": [],
      "source": [
        "# Creating a different country dataframe\n",
        "country_count = df_1.copy()\n",
        "country_count = pd.concat([country_count , df_1['country'].str.split(\",\",expand=True)],axis=1)\n"
      ]
    },
    {
      "cell_type": "markdown",
      "metadata": {
        "id": "Lvhc0w3hqcey"
      },
      "source": [
        "**splitting country columns as single observation contains multiple country names**"
      ]
    },
    {
      "cell_type": "code",
      "execution_count": null,
      "metadata": {
        "id": "w-L5BcVbx89b"
      },
      "outputs": [],
      "source": [
        "# stripping of the country column\n",
        "country_count[\"country\"] = country_count[\"country\"].str.strip()"
      ]
    },
    {
      "cell_type": "code",
      "execution_count": null,
      "metadata": {
        "id": "BcB2pSSUxsuC"
      },
      "outputs": [],
      "source": [
        "top_20_countries= country_count[\"country\"].value_counts()[:20].reset_index().rename(columns={'index':'country','country':'count'})\n"
      ]
    },
    {
      "cell_type": "markdown",
      "metadata": {
        "id": "qHIuGf5LrNRK"
      },
      "source": [
        "**counting occurences of countries**"
      ]
    },
    {
      "cell_type": "code",
      "execution_count": null,
      "metadata": {
        "id": "OORCirpVGpSo"
      },
      "outputs": [],
      "source": [
        "# counting occurences of countries by using value_counts\n",
        "df['country'].value_counts()[:20]"
      ]
    },
    {
      "cell_type": "code",
      "execution_count": null,
      "metadata": {
        "id": "p5bFo4nkxeff"
      },
      "outputs": [],
      "source": [
        "plt.figure( figsize = ( 12,50 ))\n",
        "top_20_countries.plot(x=\"country\", y=\"count\", kind=\"bar\")"
      ]
    },
    {
      "cell_type": "markdown",
      "metadata": {
        "id": "dW9FbIbbB4iZ"
      },
      "source": [
        "### **Ratings VS Countries**"
      ]
    },
    {
      "cell_type": "code",
      "execution_count": null,
      "metadata": {
        "id": "SgY3uERm-nto"
      },
      "outputs": [],
      "source": [
        "# defining a function\n",
        "def barplot_rating(country_name):\n",
        "  '''\n",
        "  it will take a country name and return the rating count\n",
        "  '''\n",
        "  plt.figure(figsize=(8,6))\n",
        "  from seaborn.categorical import countplot\n",
        "  sns.set_theme(style=\"darkgrid\")\n",
        "  ax = sns.countplot(x='rating',data=country_count[country_count['country']==country_name])\n",
        "  ax.set_title(country_name)"
      ]
    },
    {
      "cell_type": "markdown",
      "metadata": {
        "id": "a7AsbCOfGPiz"
      },
      "source": [
        "**Plotting the countplot for raings in top 20 countried**"
      ]
    },
    {
      "cell_type": "code",
      "execution_count": null,
      "metadata": {
        "id": "_GaIHNgvy9Ee"
      },
      "outputs": [],
      "source": [
        "# Converting country names to list using tolist\n",
        "list_top20_countries = top_20_countries['country'].tolist()"
      ]
    },
    {
      "cell_type": "code",
      "execution_count": null,
      "metadata": {
        "id": "tCIVR_yt-8b-"
      },
      "outputs": [],
      "source": [
        "# Getting the country names one by one\n",
        "for country_name in list_top20_countries:\n",
        "  barplot_rating(country_name)"
      ]
    },
    {
      "cell_type": "markdown",
      "metadata": {
        "id": "QxSGgSb1G7Kz"
      },
      "source": [
        "Here we can say that shows with **TV-MA** rating are highest in **Belgium, Brazil, Italy, Turkey, Australia, Mexico, Germany, South korea, Spain, Japan, France, Canada, United Kingdom, United States**\n",
        "\n",
        "**India, China, Egypt, Hongkong and Taiwan** has higest number shows rated as **TV-14**"
      ]
    },
    {
      "cell_type": "markdown",
      "metadata": {
        "id": "kUcq7uPymyI5"
      },
      "source": [
        "## **3.Is Netflix has increasingly focusing on TV rather than movies in recent years ??**"
      ]
    },
    {
      "cell_type": "markdown",
      "metadata": {
        "id": "9RlmXbBV-PHK"
      },
      "source": [
        "**Netflix's focus in recent years**"
      ]
    },
    {
      "cell_type": "code",
      "execution_count": null,
      "metadata": {
        "id": "ZpRfBmwT4bow"
      },
      "outputs": [],
      "source": [
        "# Plotting a countplot\n",
        "plt.figure(figsize=(15,8))\n",
        "sns.countplot(x='added_year',hue='type',data=df_1,palette = \"Dark2\")\n",
        "plt.title(\"Recent year Netflix's Uploads\")"
      ]
    },
    {
      "cell_type": "markdown",
      "metadata": {
        "id": "K9sNRbvUm-mx"
      },
      "source": [
        "From above countplot we can clealry see that from 2017 number of Movies added increased tremendously, but at the same time TV shows added from 2017 are also increased but as comparison to Movies they are very less in numbers."
      ]
    },
    {
      "cell_type": "markdown",
      "metadata": {
        "id": "r5BHq91A0Db_"
      },
      "source": [
        "## **4. Clustering similar content by matching text-based features**"
      ]
    },
    {
      "cell_type": "markdown",
      "metadata": {
        "id": "LTHq7fx30HgE"
      },
      "source": [
        "### **Feature Engineering**"
      ]
    },
    {
      "cell_type": "markdown",
      "metadata": {
        "id": "f2kBRKgQq4w_"
      },
      "source": [
        "we will add all text based or categorical columns"
      ]
    },
    {
      "cell_type": "code",
      "execution_count": null,
      "metadata": {
        "id": "pkCYIN8Vq4bE"
      },
      "outputs": [],
      "source": [
        "# We will add all categorical and text based columns\n",
        "df_1['text_info'] = df_1['description'] + ' '+ df_1['genres'] + ' ' + df_1['rating'] + ' '+ df_1['country']+ ' ' + df_1['title'] + ' '+ df_1['director'] + ' ' + df_1['cast']"
      ]
    },
    {
      "cell_type": "code",
      "execution_count": null,
      "metadata": {
        "id": "hok9mb7EsiJf"
      },
      "outputs": [],
      "source": [
        "# Checking \n",
        "df_1['text_info'][0]"
      ]
    },
    {
      "cell_type": "markdown",
      "metadata": {
        "id": "4wcr97mGfM8Q"
      },
      "source": [
        "**Text cleaning**"
      ]
    },
    {
      "cell_type": "code",
      "execution_count": null,
      "metadata": {
        "id": "ybVmHBuztCH0"
      },
      "outputs": [],
      "source": [
        "#text cleaning function\n",
        "import re\n",
        "def clean_text(x):\n",
        "    return re.sub(r\"[^a-zA-Z ]\",\"\",str(x))"
      ]
    },
    {
      "cell_type": "code",
      "execution_count": null,
      "metadata": {
        "id": "bWdm2-wLts0y"
      },
      "outputs": [],
      "source": [
        "# Applying above function on our combined column\n",
        "df_1['text_info'] = df_1['text_info'].apply(clean_text)"
      ]
    },
    {
      "cell_type": "code",
      "execution_count": null,
      "metadata": {
        "id": "4D0yxPPWt969"
      },
      "outputs": [],
      "source": [
        "# we will convert all words in lowercase\n",
        "df_1['text_info'] = df_1['text_info'].str.lower()"
      ]
    },
    {
      "cell_type": "code",
      "execution_count": null,
      "metadata": {
        "id": "UkM2R3GguQNC"
      },
      "outputs": [],
      "source": [
        "#necessary import for nlp\n",
        "import nltk\n",
        "nltk.download('stopwords')\n",
        "from nltk.corpus import stopwords\n",
        "from nltk.tokenize import word_tokenize\n",
        "from nltk.stem.snowball import SnowballStemmer\n",
        "nltk.download('punkt')"
      ]
    },
    {
      "cell_type": "markdown",
      "metadata": {
        "id": "GsQTgoE5fwfB"
      },
      "source": [
        "**Stemming-**"
      ]
    },
    {
      "cell_type": "code",
      "execution_count": null,
      "metadata": {
        "id": "SDvqFoEpubDC"
      },
      "outputs": [],
      "source": [
        "#stemming\n",
        "stemmer = SnowballStemmer('english')\n",
        "stop_words = set(stopwords.words('english'))"
      ]
    },
    {
      "cell_type": "code",
      "execution_count": null,
      "metadata": {
        "id": "8NYzIg34ugb8"
      },
      "outputs": [],
      "source": [
        "# defining a function to filter the words\n",
        "def filter_words(string, filter_words):\n",
        "  filtered=[]\n",
        "  tokens = word_tokenize(string)\n",
        "  for word in tokens:\n",
        "    if word not in filter_words:\n",
        "      filtered.append(stemmer.stem(word))\n",
        "  return filtered\n",
        "\n",
        "df_1['cleaned_text']= ''\n",
        "for item, row in df_1.iterrows():\n",
        "  df_1.at[item,'cleaned_text'] = filter_words(row['text_info'],stop_words)\n",
        "\n",
        "df_1['cleaned_text']\n",
        "\n"
      ]
    },
    {
      "cell_type": "code",
      "execution_count": null,
      "metadata": {
        "id": "20610dgJxI1z"
      },
      "outputs": [],
      "source": [
        "#join words fun\n",
        "def join_words(x):\n",
        "  return \" \".join(x)"
      ]
    },
    {
      "cell_type": "code",
      "execution_count": null,
      "metadata": {
        "id": "HVe5UM98xPod"
      },
      "outputs": [],
      "source": [
        "#final column\n",
        "df_1['cleaned_text'] = df_1['cleaned_text'].apply(join_words)"
      ]
    },
    {
      "cell_type": "code",
      "execution_count": null,
      "metadata": {
        "id": "_OJD9QJDx3Rc"
      },
      "outputs": [],
      "source": [
        "words = df_1.cleaned_text"
      ]
    },
    {
      "cell_type": "markdown",
      "metadata": {
        "id": "nvzTm20AylyD"
      },
      "source": [
        "## **TF-IDF**\n",
        "\n",
        "**Term frequency-inverse document frequency is a text vectorizer that transforms the text into a usable vector.** \n",
        "\n",
        "**TF** - The term frequency is the number of occurrences of a specific term in a document. Term frequency indicates how important a specific term in a document. Term frequency represents every text from the data as a matrix whose rows are the number of documents and columns are the number of distinct terms throughout all documents.\n",
        "\n",
        "**IDF** - Document frequency is the number of documents containing a specific term. Document frequency indicates how common the term is.Inverse document frequency (IDF) is the weight of a term, it aims to reduce the weight of a term if the term’s occurrences are scattered throughout all the documents.\n"
      ]
    },
    {
      "cell_type": "code",
      "execution_count": null,
      "metadata": {
        "id": "6CwWYg3xylQj"
      },
      "outputs": [],
      "source": [
        "#using tfidf\n",
        "from sklearn.feature_extraction.text import TfidfVectorizer\n",
        "t_vectorizer = TfidfVectorizer(max_df = 0.9,min_df = 1, max_features=15000)\n",
        "X= t_vectorizer.fit_transform(words)"
      ]
    },
    {
      "cell_type": "code",
      "execution_count": null,
      "metadata": {
        "id": "f4CWTASzysgA"
      },
      "outputs": [],
      "source": [
        "X"
      ]
    },
    {
      "cell_type": "markdown",
      "metadata": {
        "id": "IoJifEzfqcxU"
      },
      "source": [
        "### **Applying PCA-Principal Component Analysis to reduce dimensions.**\n",
        "\n",
        "**PCA- Pricipal Component Analysis**\n",
        "\n",
        "Principal Component Analysis is an unsupervised learning algorithm that is used for the dimensionality reduction in machine learning. It is a statistical process that converts the observations of correlated features into a set of linearly uncorrelated features with the help of orthogonal transformation.\n",
        "\n",
        "It is a technique to draw strong patterns from the given dataset by reducing the variances.\n",
        "\n",
        "PCA generally tries to find the lower-dimensional surface to project the high-dimensional data."
      ]
    },
    {
      "cell_type": "code",
      "execution_count": null,
      "metadata": {
        "id": "n8fLDqS0y-uE"
      },
      "outputs": [],
      "source": [
        "#PCA Code\n",
        "import numpy as np\n",
        "from sklearn.decomposition import PCA\n",
        "import matplotlib.pyplot as plt\n",
        "transformer = PCA()\n",
        "transformer.fit(X.toarray())"
      ]
    },
    {
      "cell_type": "markdown",
      "metadata": {
        "id": "__da0cJdqppo"
      },
      "source": [
        "### **Cumulative Explained Variance**"
      ]
    },
    {
      "cell_type": "code",
      "execution_count": null,
      "metadata": {
        "id": "mX0S2PbXzF50"
      },
      "outputs": [],
      "source": [
        " #explained var v/s comp\n",
        "plt.plot(np.cumsum(transformer.explained_variance_ratio_))\n",
        "plt.xlabel('number of components')\n",
        "plt.ylabel('cumulative explained variance')\n"
      ]
    },
    {
      "cell_type": "markdown",
      "metadata": {
        "id": "rAe_jLKc1oUZ"
      },
      "source": [
        "**here we can clearly spot that 80% variance is explained by 3000 components only.**"
      ]
    },
    {
      "cell_type": "markdown",
      "metadata": {
        "id": "6ZZVm6gUqz0j"
      },
      "source": [
        "We will use 3000 components "
      ]
    },
    {
      "cell_type": "code",
      "execution_count": null,
      "metadata": {
        "id": "5Bx2ZB8j14Ke"
      },
      "outputs": [],
      "source": [
        "#choosing right dim from plot, this might take a while, for ready ans use n_components = 3000\n",
        "from sklearn.decomposition import PCA\n",
        "transformer = PCA(n_components=3000)\n",
        "transformer.fit(X.toarray())\n",
        "X_transformed = transformer.transform(X.toarray())\n",
        "X_transformed.shape"
      ]
    },
    {
      "cell_type": "code",
      "execution_count": null,
      "metadata": {
        "id": "hoX5BUN23plG"
      },
      "outputs": [],
      "source": [
        "# vectorizing the test and train\n",
        "X_vectorized = t_vectorizer.transform(words)"
      ]
    },
    {
      "cell_type": "code",
      "execution_count": null,
      "metadata": {
        "id": "ZqgPlBXT3wQ1"
      },
      "outputs": [],
      "source": [
        "#applying pca\n",
        "X= transformer.transform(X_vectorized.toarray())"
      ]
    },
    {
      "cell_type": "code",
      "execution_count": null,
      "metadata": {
        "id": "Biig1aai3yT5"
      },
      "outputs": [],
      "source": [
        "X"
      ]
    },
    {
      "cell_type": "markdown",
      "metadata": {
        "id": "HNZhQmYA6V2K"
      },
      "source": [
        "# **KMeans Clustering**"
      ]
    },
    {
      "cell_type": "markdown",
      "metadata": {
        "id": "tUWtZenl_84X"
      },
      "source": [
        "K-Means Clustering is an Unsupervised Learning algorithm, which groups the unlabeled dataset into different clusters.\n",
        "\n",
        "It is an iterative algorithm that divides the unlabeled dataset into k different clusters in such a way that each dataset belongs only one group that has similar properties.\n",
        "\n",
        "It is a centroid-based algorithm, where each cluster is associated with a centroid. The main aim of this algorithm is to minimize the sum of distances between the data point and their corresponding clusters."
      ]
    },
    {
      "cell_type": "markdown",
      "metadata": {
        "id": "C0jeP2wjq_Y_"
      },
      "source": [
        "**Silhouette Score Elbow for KMeans Clustering**"
      ]
    },
    {
      "cell_type": "code",
      "execution_count": null,
      "metadata": {
        "id": "xpHQ9MHYVpCc"
      },
      "outputs": [],
      "source": [
        "from sklearn.cluster import KMeans\n",
        "\n",
        "from yellowbrick.cluster import KElbowVisualizer\n",
        "\n",
        "\n",
        "# Instantiate the clustering model and visualizer\n",
        "model = KMeans()\n",
        "visualizer = KElbowVisualizer(\n",
        "    model, k=(4,22), metric='silhouette', timings=False\n",
        ")\n",
        "\n",
        "visualizer.fit(X)        # Fit the data to the visualizer\n",
        "visualizer.show()  "
      ]
    },
    {
      "cell_type": "markdown",
      "metadata": {
        "id": "pUqegd5cxAKi"
      },
      "source": [
        "### **Elbow Method to get number of clusters**"
      ]
    },
    {
      "cell_type": "markdown",
      "metadata": {
        "id": "JC-JRqJ3B1cF"
      },
      "source": [
        "The K-Elbow Visualizer implements the “elbow” method of selecting the optimal number of clusters for K-means clustering.\n",
        "\n",
        "The elbow method runs k-means clustering on the dataset for a range of values for k (say from 1-10) and then for each value of k computes an average score for all clusters. By default, the distortion score is computed, the sum of square distances from each point to its assigned center.\n",
        "\n",
        "When these overall metrics for each model are plotted, it is possible to visually determine the best value for k. If the line chart looks like an arm, then the “elbow” (the point of inflection on the curve) is the best value of k. The “arm” can be either up or down, but if there is a strong inflection point, it is a good indication that the underlying model fits best at that point."
      ]
    },
    {
      "cell_type": "code",
      "execution_count": null,
      "metadata": {
        "id": "LthnQvRib0ow"
      },
      "outputs": [],
      "source": [
        "# We will plot the graph to get the no. of clusters\n",
        "wcss = []\n",
        "for i in range(1, 22):\n",
        "    kmeans = KMeans(n_clusters=i, init='k-means++', max_iter=300, n_init=10, random_state=0)\n",
        "    kmeans.fit(X)\n",
        "    wcss.append(kmeans.inertia_)\n",
        "plt.plot(range(1, 22), wcss)\n",
        "plt.title('Elbow Method')\n",
        "plt.xlabel('Number of clusters')\n",
        "plt.ylabel('WCSS')\n",
        "plt.show()"
      ]
    },
    {
      "cell_type": "markdown",
      "metadata": {
        "id": "LDE5gHyseRN9"
      },
      "source": [
        "**we will take no. of clusters as 15**"
      ]
    },
    {
      "cell_type": "markdown",
      "metadata": {
        "id": "2NPs6XlWiGYz"
      },
      "source": [
        "### **Model fitting**"
      ]
    },
    {
      "cell_type": "code",
      "execution_count": null,
      "metadata": {
        "id": "OpQmleeFeZsD"
      },
      "outputs": [],
      "source": [
        "# fitting the k means algorithm on lower features\n",
        "\n",
        "kmeans= KMeans(n_clusters=15, init= 'k-means++',max_iter=300, n_init=1)\n",
        "kmeans.fit(X)"
      ]
    },
    {
      "cell_type": "markdown",
      "metadata": {
        "id": "qId0qiLDiNOT"
      },
      "source": [
        "**calculating silhouette score**"
      ]
    },
    {
      "cell_type": "code",
      "execution_count": null,
      "metadata": {
        "id": "mbR13dX_egiO"
      },
      "outputs": [],
      "source": [
        "from sklearn.metrics import silhouette_score\n",
        "print(\"Silhouette Coefficient:  %0.3f\"%silhouette_score(X, kmeans.labels_))"
      ]
    },
    {
      "cell_type": "markdown",
      "metadata": {
        "id": "Kcaj4SKQiUZg"
      },
      "source": [
        "**Predicting**"
      ]
    },
    {
      "cell_type": "code",
      "execution_count": null,
      "metadata": {
        "id": "F0_0mf7kexxV"
      },
      "outputs": [],
      "source": [
        "#predict the labels of clusters.\n",
        "label = kmeans.fit_predict(X)"
      ]
    },
    {
      "cell_type": "code",
      "execution_count": null,
      "metadata": {
        "id": "curF6bgGezvA"
      },
      "outputs": [],
      "source": [
        "#Getting unique labels\n",
        "u_labels = np.unique(label)\n",
        " \n",
        "#plotting the results:\n",
        "for i in u_labels:\n",
        "    plt.scatter(X[label == i , 0] , X[label == i , 1] , label = i)\n",
        "plt.rcParams[\"figure.figsize\"] = (20,8)\n",
        "plt.legend()\n",
        "plt.show()"
      ]
    },
    {
      "cell_type": "markdown",
      "metadata": {
        "id": "AAdbjKI7ffIu"
      },
      "source": [
        "**we now assign our clusters in our dataset by creating a new column \"clusters\"**"
      ]
    },
    {
      "cell_type": "code",
      "execution_count": null,
      "metadata": {
        "id": "obCdfmYLfQlY"
      },
      "outputs": [],
      "source": [
        "# Assigning clusters to our data\n",
        "df_1['clusters'] = kmeans.labels_"
      ]
    },
    {
      "cell_type": "code",
      "execution_count": null,
      "metadata": {
        "id": "68WEQu3afZM4"
      },
      "outputs": [],
      "source": [
        "# checking how it is working\n",
        "df_1.head()"
      ]
    },
    {
      "cell_type": "markdown",
      "metadata": {
        "id": "6spMdHUff0yt"
      },
      "source": [
        "**Counting Movies/TV shows assigned to each cluster**"
      ]
    },
    {
      "cell_type": "code",
      "execution_count": null,
      "metadata": {
        "id": "7qXpDRXekOMj"
      },
      "outputs": [],
      "source": [
        "# COunting content in each cluster\n",
        "cluster_content_count = df_1['clusters'].value_counts().reset_index().rename(columns={'index':'clusters','clusters':'Movies/TV_Shows'})\n",
        "cluster_content_count"
      ]
    },
    {
      "cell_type": "markdown",
      "metadata": {
        "id": "fdEaG3cQ5Bro"
      },
      "source": [
        "### **Silhouette Score -**\n",
        "Silhouette analysis can be used to study the separation distance between the resulting clusters. The silhouette plot displays a measure of how close each point in one cluster is to points in the neighboring clusters and thus provides a way to assess parameters like number of clusters visually. This measure has a range of [-1, 1]."
      ]
    },
    {
      "cell_type": "code",
      "source": [
        "import matplotlib.cm as cm"
      ],
      "metadata": {
        "id": "b_QJUQvsxLMR"
      },
      "execution_count": null,
      "outputs": []
    },
    {
      "cell_type": "code",
      "execution_count": null,
      "metadata": {
        "id": "BFkWiev_hJE7"
      },
      "outputs": [],
      "source": [
        "range_n_clusters = [i for i in range(2,16)]\n",
        "\n",
        "for n_clusters in range_n_clusters:\n",
        "    # Create a subplot with 1 row and 2 columns\n",
        "    fig, (ax1, ax2) = plt.subplots(1, 2)\n",
        "    fig.set_size_inches(18, 7)\n",
        "\n",
        "    # The 1st subplot is the silhouette plot\n",
        "    # The silhouette coefficient can range from -1, 1 but in this example all\n",
        "    # lie within [-0.1, 1]\n",
        "    ax1.set_xlim([-0.1, 1])\n",
        "    # The (n_clusters+1)*10 is for inserting blank space between silhouette\n",
        "    # plots of individual clusters, to demarcate them clearly.\n",
        "    ax1.set_ylim([0, len(X) + (n_clusters + 1) * 10])\n",
        "\n",
        "    # Initialize the clusterer with n_clusters value and a random generator\n",
        "    # seed of 10 for reproducibility.\n",
        "    clusterer = KMeans(n_clusters=n_clusters, random_state=10)\n",
        "    cluster_labels = clusterer.fit_predict(X)\n",
        "\n",
        "    # The silhouette_score gives the average value for all the samples.\n",
        "    # This gives a perspective into the density and separation of the formed\n",
        "    # clusters\n",
        "    silhouette_avg = silhouette_score(X, cluster_labels)\n",
        "    print(\"For n_clusters =\", n_clusters,\n",
        "          \"The average silhouette_score is :\", silhouette_avg)\n",
        "\n",
        "    # Compute the silhouette scores for each sample\n",
        "    sample_silhouette_values = silhouette_samples(X, cluster_labels)\n",
        "\n",
        "    y_lower = 10\n",
        "    for i in range(n_clusters):\n",
        "        # Aggregate the silhouette scores for samples belonging to\n",
        "        # cluster i, and sort them\n",
        "        ith_cluster_silhouette_values = \\\n",
        "            sample_silhouette_values[cluster_labels == i]\n",
        "\n",
        "        ith_cluster_silhouette_values.sort()\n",
        "\n",
        "        size_cluster_i = ith_cluster_silhouette_values.shape[0]\n",
        "        y_upper = y_lower + size_cluster_i\n",
        "\n",
        "        color = cm.nipy_spectral(float(i) / n_clusters)\n",
        "        ax1.fill_betweenx(np.arange(y_lower, y_upper),\n",
        "                          0, ith_cluster_silhouette_values,\n",
        "                          facecolor=color, edgecolor=color, alpha=0.7)\n",
        "\n",
        "        # Label the silhouette plots with their cluster numbers at the middle\n",
        "        ax1.text(-0.05, y_lower + 0.5 * size_cluster_i, str(i))\n",
        "\n",
        "        # Compute the new y_lower for next plot\n",
        "        y_lower = y_upper + 10  # 10 for the 0 samples\n",
        "\n",
        "    ax1.set_title(\"The silhouette plot for the various clusters.\")\n",
        "    ax1.set_xlabel(\"The silhouette coefficient values\")\n",
        "    ax1.set_ylabel(\"Cluster label\")\n",
        "\n",
        "    # The vertical line for average silhouette score of all the values\n",
        "    ax1.axvline(x=silhouette_avg, color=\"red\", linestyle=\"--\")\n",
        "\n",
        "    ax1.set_yticks([])  # Clear the yaxis labels / ticks\n",
        "    ax1.set_xticks([-0.1, 0, 0.2, 0.4, 0.6, 0.8, 1])\n",
        "\n",
        "    # 2nd Plot showing the actual clusters formed\n",
        "    colors = cm.nipy_spectral(cluster_labels.astype(float) /n_clusters)\n",
        "    ax2.scatter(X[:, 0], X[:, 1], marker='.', s=30, lw=0, alpha=0.7,\n",
        "                c=colors, edgecolor='k')\n",
        "\n",
        "    # Labeling the clusters\n",
        "    centers = clusterer.cluster_centers_\n",
        "    # Draw white circles at cluster centers\n",
        "    ax2.scatter(centers[:, 0], centers[:, 1], marker='o',\n",
        "                c=\"white\", alpha=1, s=200, edgecolor='k')\n",
        "\n",
        "    for i, c in enumerate(centers):\n",
        "        ax2.scatter(c[0], c[1], marker='$%d$' % i, alpha=1,\n",
        "                    s=50, edgecolor='k')\n",
        "\n",
        "    ax2.set_title(\"The visualization of the clustered data.\")\n",
        "    ax2.set_xlabel(\"Feature space for the 1st feature\")\n",
        "    ax2.set_ylabel(\"Feature space for the 2nd feature\")\n",
        "    plt.suptitle((\"Silhouette analysis for KMeans clustering on sample data \"\n",
        "                  \"with n_clusters = %d\" % n_clusters),\n",
        "                 fontsize=14, fontweight='bold')\n",
        "\n",
        "plt.show()"
      ]
    },
    {
      "cell_type": "markdown",
      "metadata": {
        "id": "lAVfW1M25TW0"
      },
      "source": [
        "**we selected number of clusters as 15 which in above calculations showing 0.00708 as silhouette score.**"
      ]
    },
    {
      "cell_type": "markdown",
      "metadata": {
        "id": "ND8kDBM_6loe"
      },
      "source": [
        "# **Conclusion**"
      ]
    },
    {
      "cell_type": "markdown",
      "metadata": {
        "id": "G4YhydT56qQO"
      },
      "source": [
        "**1. In cumulative explained variance graph we got 80% of variance captured by 3000 components only, thats why we selected no. of components as 3000.**\n",
        "\n",
        "**2. We selected no. of clusters as 15 from Elbow method.**\n",
        "\n",
        "**3. Calculated silhouette score for 15 no. of clusters which was showing 0.008**\n",
        "\n",
        "**4. Then we applied KMeans on our data and then we predict the labels.**\n",
        "\n",
        "**5. we plotte word cloud for each cluster so that we can visualize the summary of each cluster.**\n",
        "\n",
        "**6. Then we plotted average silhouette score for clusters ranging from 2 to 16, and in that we get silhouette score 0.00708 for cluster=15 which is pretty close to earlier we calculated.**"
      ]
    },
    {
      "cell_type": "markdown",
      "metadata": {
        "id": "bW6Tu5VdDJHq"
      },
      "source": [
        "# **Limitations**"
      ]
    },
    {
      "cell_type": "markdown",
      "metadata": {
        "id": "sJsR3pD3DP5D"
      },
      "source": [
        "**1. As the number of dimensions increases, a distance-based similarity measure converges to a constant value between any feature.**\n",
        "\n",
        "**2. Centroids can be dragged by outliers, or outliers might get their own cluster instead of being ignored.**\n",
        "\n",
        "**3. More Computational power required.**\n",
        "\n",
        "**4. k-means has trouble clustering data where clusters are of varying sizes and density.**"
      ]
    },
    {
      "cell_type": "markdown",
      "metadata": {
        "id": "XXUZx3d8EiX9"
      },
      "source": [
        "# **Future Scope**"
      ]
    },
    {
      "cell_type": "markdown",
      "metadata": {
        "id": "YLbuLvg6EmbS"
      },
      "source": [
        "**1. With more computational power can work on more data.**\n",
        "\n",
        "**2. Can apply different clustering algorithms.**"
      ]
    },
    {
      "cell_type": "markdown",
      "metadata": {
        "id": "dUAWmejRFEdD"
      },
      "source": [
        "# **Thank You**"
      ]
    }
  ],
  "metadata": {
    "colab": {
      "collapsed_sections": [],
      "provenance": [],
      "include_colab_link": true
    },
    "kernelspec": {
      "display_name": "Python 3",
      "name": "python3"
    },
    "language_info": {
      "name": "python"
    }
  },
  "nbformat": 4,
  "nbformat_minor": 0
}